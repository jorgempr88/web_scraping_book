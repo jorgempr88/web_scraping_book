{
 "cells": [
  {
   "cell_type": "code",
   "execution_count": 1,
   "metadata": {},
   "outputs": [],
   "source": [
    "# exported libraries\n",
    "import requests as rq\n",
    "import bs4\n",
    "import pandas as pd\n",
    "\n",
    "\n"
   ]
  },
  {
   "cell_type": "code",
   "execution_count": 2,
   "metadata": {},
   "outputs": [],
   "source": [
    "#URL_base\n",
    "url_base = 'http://books.toscrape.com/catalogue/page-{}.html'"
   ]
  },
  {
   "cell_type": "code",
   "execution_count": 3,
   "metadata": {},
   "outputs": [],
   "source": [
    "#path function\n",
    "def page_title_price():\n",
    "    #list append\n",
    "    ficha_title = []\n",
    "    ficha_price = []\n",
    "    ficha_star = []\n",
    "\n",
    "    #tour for html pages\n",
    "    for paginas in range(51):\n",
    "        url_page = url_base.format(paginas)\n",
    "        result = rq.get(url_page)\n",
    "        soup = bs4.BeautifulSoup(result.text, 'lxml')\n",
    "\n",
    "        books = soup.select('.product_pod')\n",
    "\n",
    "        list_price = soup.select('.product_price')\n",
    "\n",
    "        #iterar books, price, stars\n",
    "        \n",
    "        #books\n",
    "        for book in books:\n",
    "            book_title = book.select('a')[1]['title']\n",
    "\n",
    "            ficha_title.append(book_title)\n",
    "\n",
    "\n",
    "        #price\n",
    "        for price in list_price:\n",
    "            prices = price.select('p')[0].get_text()\n",
    "            precio_d = prices.strip('Â')\n",
    "\n",
    "            ficha_price.append(precio_d)\n",
    "\n",
    "            \n",
    "        #stars\n",
    "        for s in books:\n",
    "            if len(s.select('.star-rating.One')):\n",
    "                star = int(1)\n",
    "                ficha_star.append(star)\n",
    "\n",
    "            elif len(s.select('.star-rating.Two')):\n",
    "                star = int(2)\n",
    "                ficha_star.append(star)\n",
    "\n",
    "            elif len(s.select('.star-rating.Three')):\n",
    "                star = int(3)\n",
    "                ficha_star.append(star)\n",
    "\n",
    "            elif len(s.select('.star-rating.Four')):\n",
    "                star = int(4)\n",
    "                ficha_star.append(star)\n",
    "\n",
    "            elif len(s.select('.star-rating.Five')):\n",
    "                star = int(5)\n",
    "                ficha_star.append(star)\n",
    "            \n",
    "            else:\n",
    "                pass\n",
    "        \n",
    "        \n",
    "\n",
    "    return ficha_title, ficha_price, ficha_star"
   ]
  },
  {
   "cell_type": "code",
   "execution_count": 4,
   "metadata": {},
   "outputs": [],
   "source": [
    "#list extraction\n",
    "inter_list = page_title_price()\n",
    "title = inter_list[0]\n",
    "price = inter_list[1]\n",
    "stars = inter_list[2]\n"
   ]
  },
  {
   "cell_type": "code",
   "execution_count": 5,
   "metadata": {},
   "outputs": [],
   "source": [
    "my_dict = {'Book_name': title, 'Price': price, 'Star_punctuation': stars}\n",
    "\n",
    "df = pd.DataFrame(my_dict, columns= ['Book_name', 'Price', 'Star_punctuation'])\n",
    "\n"
   ]
  },
  {
   "cell_type": "code",
   "execution_count": 6,
   "metadata": {},
   "outputs": [
    {
     "data": {
      "text/html": [
       "<div>\n",
       "<style scoped>\n",
       "    .dataframe tbody tr th:only-of-type {\n",
       "        vertical-align: middle;\n",
       "    }\n",
       "\n",
       "    .dataframe tbody tr th {\n",
       "        vertical-align: top;\n",
       "    }\n",
       "\n",
       "    .dataframe thead th {\n",
       "        text-align: right;\n",
       "    }\n",
       "</style>\n",
       "<table border=\"1\" class=\"dataframe\">\n",
       "  <thead>\n",
       "    <tr style=\"text-align: right;\">\n",
       "      <th></th>\n",
       "      <th>Book_name</th>\n",
       "      <th>Price</th>\n",
       "      <th>Star_punctuation</th>\n",
       "    </tr>\n",
       "  </thead>\n",
       "  <tbody>\n",
       "    <tr>\n",
       "      <th>0</th>\n",
       "      <td>A Light in the Attic</td>\n",
       "      <td>£51.77</td>\n",
       "      <td>3</td>\n",
       "    </tr>\n",
       "    <tr>\n",
       "      <th>1</th>\n",
       "      <td>Tipping the Velvet</td>\n",
       "      <td>£53.74</td>\n",
       "      <td>1</td>\n",
       "    </tr>\n",
       "    <tr>\n",
       "      <th>2</th>\n",
       "      <td>Soumission</td>\n",
       "      <td>£50.10</td>\n",
       "      <td>1</td>\n",
       "    </tr>\n",
       "    <tr>\n",
       "      <th>3</th>\n",
       "      <td>Sharp Objects</td>\n",
       "      <td>£47.82</td>\n",
       "      <td>4</td>\n",
       "    </tr>\n",
       "    <tr>\n",
       "      <th>4</th>\n",
       "      <td>Sapiens: A Brief History of Humankind</td>\n",
       "      <td>£54.23</td>\n",
       "      <td>5</td>\n",
       "    </tr>\n",
       "  </tbody>\n",
       "</table>\n",
       "</div>"
      ],
      "text/plain": [
       "                               Book_name   Price  Star_punctuation\n",
       "0                   A Light in the Attic  £51.77                 3\n",
       "1                     Tipping the Velvet  £53.74                 1\n",
       "2                             Soumission  £50.10                 1\n",
       "3                          Sharp Objects  £47.82                 4\n",
       "4  Sapiens: A Brief History of Humankind  £54.23                 5"
      ]
     },
     "execution_count": 6,
     "metadata": {},
     "output_type": "execute_result"
    }
   ],
   "source": [
    "df.head()"
   ]
  }
 ],
 "metadata": {
  "kernelspec": {
   "display_name": "Python 3.10.4 64-bit",
   "language": "python",
   "name": "python3"
  },
  "language_info": {
   "codemirror_mode": {
    "name": "ipython",
    "version": 3
   },
   "file_extension": ".py",
   "mimetype": "text/x-python",
   "name": "python",
   "nbconvert_exporter": "python",
   "pygments_lexer": "ipython3",
   "version": "3.10.4"
  },
  "orig_nbformat": 4,
  "vscode": {
   "interpreter": {
    "hash": "293131cabcc63df1d139afa17328122b1a4ea3cc7c9b7482572cd93e918a5b3d"
   }
  }
 },
 "nbformat": 4,
 "nbformat_minor": 2
}
